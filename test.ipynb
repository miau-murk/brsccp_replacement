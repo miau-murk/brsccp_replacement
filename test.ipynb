{
 "cells": [
  {
   "cell_type": "code",
   "execution_count": 1,
   "id": "58f9aa65-94f3-42d3-b267-94b778acd0b5",
   "metadata": {},
   "outputs": [],
   "source": [
    "import sys \n",
    "# Insert the path of modules folder \n",
    "sys.path.insert(0, \"C:/Users/moise/Desktop/projects/lab44/identical_atoms/brsccp_replacement\")"
   ]
  },
  {
   "cell_type": "code",
   "execution_count": 2,
   "id": "a9756bf0-2a09-43e2-ac7f-bc7994d76618",
   "metadata": {},
   "outputs": [],
   "source": [
    "from monatomic_replacement import morgan_types\n",
    "from rdkit import Chem\n",
    "import monatomic_replacement\n",
    "import warnings\n",
    "warnings.filterwarnings(\"ignore\")"
   ]
  },
  {
   "cell_type": "code",
   "execution_count": 3,
   "id": "1f0b1f41-8a2a-4996-91a6-c41df0ae4ec9",
   "metadata": {},
   "outputs": [
    {
     "name": "stdout",
     "output_type": "stream",
     "text": [
      "HAF\n"
     ]
    },
    {
     "data": {
      "text/plain": [
       "['NAG']"
      ]
     },
     "execution_count": 3,
     "metadata": {},
     "output_type": "execute_result"
    }
   ],
   "source": [
    "monatomic_replacement.find_identical_atoms(\"input3KQS.yaml\")"
   ]
  },
  {
   "cell_type": "code",
   "execution_count": 6,
   "id": "cc74f87f-f3ff-433b-b3b9-b1143ac7e3d3",
   "metadata": {},
   "outputs": [],
   "source": [
    "mol = Chem.MolFromMolFile(\"ligand.mol\")"
   ]
  },
  {
   "cell_type": "code",
   "execution_count": 11,
   "id": "2238a49c-2481-48bd-98ad-ea1555b6f6ce",
   "metadata": {},
   "outputs": [],
   "source": [
    "mnt = morgan_types.MorganTypes(mol)"
   ]
  },
  {
   "cell_type": "code",
   "execution_count": 17,
   "id": "529deef1-2663-420a-9c1c-c62cae3c126e",
   "metadata": {},
   "outputs": [
    {
     "name": "stdout",
     "output_type": "stream",
     "text": [
      "{1: 1549527, 2: 2073202, 3: 1283756, 4: 954312, 5: 954312, 6: 1283756, 7: 2073202, 8: 1549527, 9: 1595262, 10: 675260}\n"
     ]
    }
   ],
   "source": [
    "print(mnt.calc_morgan_weight())"
   ]
  },
  {
   "cell_type": "code",
   "execution_count": 15,
   "id": "ad4be3d2-302c-40fb-9741-3d089940293d",
   "metadata": {},
   "outputs": [
    {
     "data": {
      "text/plain": [
       "[(1, 8, 'N'), (2, 7, 'C'), (3, 6, 'C'), (4, 5, 'C')]"
      ]
     },
     "execution_count": 15,
     "metadata": {},
     "output_type": "execute_result"
    }
   ],
   "source": [
    "mnt.find_topology_indentical_atoms()"
   ]
  },
  {
   "cell_type": "code",
   "execution_count": 16,
   "id": "fe3dd63b-8de6-4b66-9306-38e36a82b00b",
   "metadata": {},
   "outputs": [
    {
     "data": {
      "text/plain": [
       "13992116"
      ]
     },
     "execution_count": 16,
     "metadata": {},
     "output_type": "execute_result"
    }
   ],
   "source": [
    "mnt.calc_moran_type()"
   ]
  },
  {
   "cell_type": "code",
   "execution_count": 18,
   "id": "f62417d2-3095-4c79-8712-e7852416bfde",
   "metadata": {},
   "outputs": [],
   "source": [
    "from monatomic_replacement import pdb_to_mol"
   ]
  },
  {
   "cell_type": "code",
   "execution_count": 19,
   "id": "f3deff81-e1a9-410e-bd3a-05795060dae8",
   "metadata": {},
   "outputs": [],
   "source": [
    "pdb_to_mol(\"3KQS.pdb\", \"AX7\", \"B\")"
   ]
  },
  {
   "cell_type": "code",
   "execution_count": null,
   "id": "c61dc16a-366b-41e5-8109-873211a39235",
   "metadata": {},
   "outputs": [],
   "source": []
  }
 ],
 "metadata": {
  "kernelspec": {
   "display_name": "Python 3 (ipykernel)",
   "language": "python",
   "name": "python3"
  },
  "language_info": {
   "codemirror_mode": {
    "name": "ipython",
    "version": 3
   },
   "file_extension": ".py",
   "mimetype": "text/x-python",
   "name": "python",
   "nbconvert_exporter": "python",
   "pygments_lexer": "ipython3",
   "version": "3.12.2"
  }
 },
 "nbformat": 4,
 "nbformat_minor": 5
}
